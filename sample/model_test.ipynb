{
 "cells": [
  {
   "cell_type": "code",
   "execution_count": 1,
   "metadata": {},
   "outputs": [
    {
     "name": "stdout",
     "output_type": "stream",
     "text": [
      "  No.  Model Names\n",
      "-----  -------------\n",
      "    1  SegFormer\n",
      "    2  Lawin\n",
      "    3  SFNet\n",
      "    4  BiSeNetv1\n",
      "    5  DDRNet\n",
      "    6  FCHarDNet\n",
      "    7  BiSeNetv2\n"
     ]
    }
   ],
   "source": [
    "from semseg import show_models \n",
    "show_models()"
   ]
  },
  {
   "cell_type": "code",
   "execution_count": 2,
   "metadata": {},
   "outputs": [],
   "source": [
    "from semseg.models import *\n",
    "\n",
    "model = eval('SegFormer')(\n",
    "    backbone='MiT-B3',\n",
    "    num_classes=150\n",
    ")"
   ]
  },
  {
   "cell_type": "code",
   "execution_count": 8,
   "metadata": {},
   "outputs": [
    {
     "name": "stdout",
     "output_type": "stream",
     "text": [
      "SegFormer(\n",
      "  (backbone): MiT(\n",
      "    (patch_embed1): PatchEmbed(\n",
      "      (proj): Conv2d(3, 64, kernel_size=(7, 7), stride=(4, 4), padding=(3, 3))\n",
      "      (norm): LayerNorm((64,), eps=1e-05, elementwise_affine=True)\n",
      "    )\n",
      "    (patch_embed2): PatchEmbed(\n",
      "      (proj): Conv2d(64, 128, kernel_size=(3, 3), stride=(2, 2), padding=(1, 1))\n",
      "      (norm): LayerNorm((128,), eps=1e-05, elementwise_affine=True)\n",
      "    )\n",
      "    (patch_embed3): PatchEmbed(\n",
      "      (proj): Conv2d(128, 320, kernel_size=(3, 3), stride=(2, 2), padding=(1, 1))\n",
      "      (norm): LayerNorm((320,), eps=1e-05, elementwise_affine=True)\n",
      "    )\n",
      "    (patch_embed4): PatchEmbed(\n",
      "      (proj): Conv2d(320, 512, kernel_size=(3, 3), stride=(2, 2), padding=(1, 1))\n",
      "      (norm): LayerNorm((512,), eps=1e-05, elementwise_affine=True)\n",
      "    )\n",
      "    (block1): ModuleList(\n",
      "      (0): Block(\n",
      "        (norm1): LayerNorm((64,), eps=1e-05, elementwise_affine=True)\n",
      "        (attn): Attention(\n",
      "          (q): Linear(in_features=64, out_features=64, bias=True)\n",
      "          (kv): Linear(in_features=64, out_features=128, bias=True)\n",
      "          (proj): Linear(in_features=64, out_features=64, bias=True)\n",
      "          (sr): Conv2d(64, 64, kernel_size=(8, 8), stride=(8, 8))\n",
      "          (norm): LayerNorm((64,), eps=1e-05, elementwise_affine=True)\n",
      "        )\n",
      "        (drop_path): Identity()\n",
      "        (norm2): LayerNorm((64,), eps=1e-05, elementwise_affine=True)\n",
      "        (mlp): MLP(\n",
      "          (fc1): Linear(in_features=64, out_features=256, bias=True)\n",
      "          (dwconv): DWConv(\n",
      "            (dwconv): Conv2d(256, 256, kernel_size=(3, 3), stride=(1, 1), padding=(1, 1), groups=256)\n",
      "          )\n",
      "          (fc2): Linear(in_features=256, out_features=64, bias=True)\n",
      "        )\n",
      "      )\n",
      "      (1-2): 2 x Block(\n",
      "        (norm1): LayerNorm((64,), eps=1e-05, elementwise_affine=True)\n",
      "        (attn): Attention(\n",
      "          (q): Linear(in_features=64, out_features=64, bias=True)\n",
      "          (kv): Linear(in_features=64, out_features=128, bias=True)\n",
      "          (proj): Linear(in_features=64, out_features=64, bias=True)\n",
      "          (sr): Conv2d(64, 64, kernel_size=(8, 8), stride=(8, 8))\n",
      "          (norm): LayerNorm((64,), eps=1e-05, elementwise_affine=True)\n",
      "        )\n",
      "        (drop_path): DropPath()\n",
      "        (norm2): LayerNorm((64,), eps=1e-05, elementwise_affine=True)\n",
      "        (mlp): MLP(\n",
      "          (fc1): Linear(in_features=64, out_features=256, bias=True)\n",
      "          (dwconv): DWConv(\n",
      "            (dwconv): Conv2d(256, 256, kernel_size=(3, 3), stride=(1, 1), padding=(1, 1), groups=256)\n",
      "          )\n",
      "          (fc2): Linear(in_features=256, out_features=64, bias=True)\n",
      "        )\n",
      "      )\n",
      "    )\n",
      "    (norm1): LayerNorm((64,), eps=1e-05, elementwise_affine=True)\n",
      "    (block2): ModuleList(\n",
      "      (0-3): 4 x Block(\n",
      "        (norm1): LayerNorm((128,), eps=1e-05, elementwise_affine=True)\n",
      "        (attn): Attention(\n",
      "          (q): Linear(in_features=128, out_features=128, bias=True)\n",
      "          (kv): Linear(in_features=128, out_features=256, bias=True)\n",
      "          (proj): Linear(in_features=128, out_features=128, bias=True)\n",
      "          (sr): Conv2d(128, 128, kernel_size=(4, 4), stride=(4, 4))\n",
      "          (norm): LayerNorm((128,), eps=1e-05, elementwise_affine=True)\n",
      "        )\n",
      "        (drop_path): DropPath()\n",
      "        (norm2): LayerNorm((128,), eps=1e-05, elementwise_affine=True)\n",
      "        (mlp): MLP(\n",
      "          (fc1): Linear(in_features=128, out_features=512, bias=True)\n",
      "          (dwconv): DWConv(\n",
      "            (dwconv): Conv2d(512, 512, kernel_size=(3, 3), stride=(1, 1), padding=(1, 1), groups=512)\n",
      "          )\n",
      "          (fc2): Linear(in_features=512, out_features=128, bias=True)\n",
      "        )\n",
      "      )\n",
      "    )\n",
      "    (norm2): LayerNorm((128,), eps=1e-05, elementwise_affine=True)\n",
      "    (block3): ModuleList(\n",
      "      (0-17): 18 x Block(\n",
      "        (norm1): LayerNorm((320,), eps=1e-05, elementwise_affine=True)\n",
      "        (attn): Attention(\n",
      "          (q): Linear(in_features=320, out_features=320, bias=True)\n",
      "          (kv): Linear(in_features=320, out_features=640, bias=True)\n",
      "          (proj): Linear(in_features=320, out_features=320, bias=True)\n",
      "          (sr): Conv2d(320, 320, kernel_size=(2, 2), stride=(2, 2))\n",
      "          (norm): LayerNorm((320,), eps=1e-05, elementwise_affine=True)\n",
      "        )\n",
      "        (drop_path): DropPath()\n",
      "        (norm2): LayerNorm((320,), eps=1e-05, elementwise_affine=True)\n",
      "        (mlp): MLP(\n",
      "          (fc1): Linear(in_features=320, out_features=1280, bias=True)\n",
      "          (dwconv): DWConv(\n",
      "            (dwconv): Conv2d(1280, 1280, kernel_size=(3, 3), stride=(1, 1), padding=(1, 1), groups=1280)\n",
      "          )\n",
      "          (fc2): Linear(in_features=1280, out_features=320, bias=True)\n",
      "        )\n",
      "      )\n",
      "    )\n",
      "    (norm3): LayerNorm((320,), eps=1e-05, elementwise_affine=True)\n",
      "    (block4): ModuleList(\n",
      "      (0-2): 3 x Block(\n",
      "        (norm1): LayerNorm((512,), eps=1e-05, elementwise_affine=True)\n",
      "        (attn): Attention(\n",
      "          (q): Linear(in_features=512, out_features=512, bias=True)\n",
      "          (kv): Linear(in_features=512, out_features=1024, bias=True)\n",
      "          (proj): Linear(in_features=512, out_features=512, bias=True)\n",
      "        )\n",
      "        (drop_path): DropPath()\n",
      "        (norm2): LayerNorm((512,), eps=1e-05, elementwise_affine=True)\n",
      "        (mlp): MLP(\n",
      "          (fc1): Linear(in_features=512, out_features=2048, bias=True)\n",
      "          (dwconv): DWConv(\n",
      "            (dwconv): Conv2d(2048, 2048, kernel_size=(3, 3), stride=(1, 1), padding=(1, 1), groups=2048)\n",
      "          )\n",
      "          (fc2): Linear(in_features=2048, out_features=512, bias=True)\n",
      "        )\n",
      "      )\n",
      "    )\n",
      "    (norm4): LayerNorm((512,), eps=1e-05, elementwise_affine=True)\n",
      "  )\n",
      "  (decode_head): SegFormerHead(\n",
      "    (linear_c1): MLP(\n",
      "      (proj): Linear(in_features=64, out_features=768, bias=True)\n",
      "    )\n",
      "    (linear_c2): MLP(\n",
      "      (proj): Linear(in_features=128, out_features=768, bias=True)\n",
      "    )\n",
      "    (linear_c3): MLP(\n",
      "      (proj): Linear(in_features=320, out_features=768, bias=True)\n",
      "    )\n",
      "    (linear_c4): MLP(\n",
      "      (proj): Linear(in_features=512, out_features=768, bias=True)\n",
      "    )\n",
      "    (linear_fuse): ConvModule(\n",
      "      (conv): Conv2d(3072, 768, kernel_size=(1, 1), stride=(1, 1), bias=False)\n",
      "      (bn): BatchNorm2d(768, eps=1e-05, momentum=0.1, affine=True, track_running_stats=True)\n",
      "      (activate): ReLU(inplace=True)\n",
      "    )\n",
      "    (linear_pred): Conv2d(768, 150, kernel_size=(1, 1), stride=(1, 1))\n",
      "    (dropout): Dropout2d(p=0.1, inplace=False)\n",
      "  )\n",
      ")\n"
     ]
    }
   ],
   "source": [
    "print(model)"
   ]
  },
  {
   "cell_type": "code",
   "execution_count": 4,
   "metadata": {},
   "outputs": [
    {
     "data": {
      "text/plain": [
       "<All keys matched successfully>"
      ]
     },
     "execution_count": 4,
     "metadata": {},
     "output_type": "execute_result"
    }
   ],
   "source": [
    "import torch \n",
    "model.load_state_dict(torch.load('pretrain/segformer.b3.ade.pth', map_location='cpu'))"
   ]
  },
  {
   "cell_type": "code",
   "execution_count": 5,
   "metadata": {},
   "outputs": [],
   "source": [
    "x = torch.randn(1, 3, 512, 512)"
   ]
  },
  {
   "cell_type": "code",
   "execution_count": 7,
   "metadata": {},
   "outputs": [
    {
     "data": {
      "text/plain": [
       "torch.Size([1, 150, 512, 512])"
      ]
     },
     "execution_count": 7,
     "metadata": {},
     "output_type": "execute_result"
    }
   ],
   "source": [
    "model.to('cuda')\n",
    "x = x.to('cuda')\n",
    "model(x).shape"
   ]
  },
  {
   "cell_type": "code",
   "execution_count": null,
   "metadata": {},
   "outputs": [],
   "source": []
  }
 ],
 "metadata": {
  "kernelspec": {
   "display_name": "base",
   "language": "python",
   "name": "python3"
  },
  "language_info": {
   "codemirror_mode": {
    "name": "ipython",
    "version": 3
   },
   "file_extension": ".py",
   "mimetype": "text/x-python",
   "name": "python",
   "nbconvert_exporter": "python",
   "pygments_lexer": "ipython3",
   "version": "3.8.5"
  },
  "orig_nbformat": 4
 },
 "nbformat": 4,
 "nbformat_minor": 2
}
