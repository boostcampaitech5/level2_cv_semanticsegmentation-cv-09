{
 "cells": [
  {
   "cell_type": "code",
   "execution_count": 1,
   "metadata": {},
   "outputs": [],
   "source": [
    "import torch\n",
    "import os\n",
    "import sys\n",
    "import numpy as np\n",
    "from PIL import Image\n",
    "import torch.nn.functional as F\n",
    "from torch.utils.data import DataLoader\n",
    "if \"/opt/ml/level2_cv_semanticsegmentation-cv-09\" not in sys.path:\n",
    "    sys.path.append(os.path.join(\"/opt/ml/level2_cv_semanticsegmentation-cv-09\"))\n",
    "from utils import seed_everything\n",
    "from dataset.dataset import XRayDataset, split_dataset\n",
    "from dataset.transforms import get_train_transform\n",
    "from tqdm import tqdm\n",
    "from optim.losses import dice_coef"
   ]
  },
  {
   "attachments": {},
   "cell_type": "markdown",
   "metadata": {},
   "source": [
    "### Path 설정"
   ]
  },
  {
   "cell_type": "code",
   "execution_count": 2,
   "metadata": {},
   "outputs": [],
   "source": [
    "model_path = \"/opt/ml/level2_cv_semanticsegmentation-cv-09/checkpoint/unet_1024_combine_cutmix_best.pt\"\n",
    "image_path = \"/opt/ml/train/DCM/ID001/image1661130828152_R.png\"\n",
    "\n",
    "img_size = (1024,1024)\n",
    "seed_everything(42)\n",
    "BATCH_SIZE = 6"
   ]
  },
  {
   "attachments": {},
   "cell_type": "markdown",
   "metadata": {},
   "source": [
    "### sample data 추출"
   ]
  },
  {
   "cell_type": "code",
   "execution_count": 3,
   "metadata": {},
   "outputs": [],
   "source": [
    "model = torch.load(model_path, map_location='cpu')\n",
    "model.eval()\n",
    "\n",
    "val_transform = get_train_transform(train=False,img_size=img_size)\n",
    "    \n",
    "train_filenames, train_labelnames, val_filenames, val_labelnames = split_dataset()\n",
    "val_dataset = XRayDataset(\n",
    "                        filenames = val_filenames,\n",
    "                        labelnames = val_labelnames,\n",
    "                        is_train = False,\n",
    "                        transforms= val_transform\n",
    "                        )"
   ]
  },
  {
   "cell_type": "code",
   "execution_count": 4,
   "metadata": {},
   "outputs": [
    {
     "name": "stdout",
     "output_type": "stream",
     "text": [
      "torch.Size([1, 3, 1024, 1024]) torch.Size([1, 29, 2048, 2048])\n"
     ]
    }
   ],
   "source": [
    "img, label = val_dataset.__getitem__(0)\n",
    "img = img.unsqueeze(0)\n",
    "label = label.unsqueeze(0)\n",
    "print(img.shape, label.shape)"
   ]
  },
  {
   "cell_type": "code",
   "execution_count": 5,
   "metadata": {},
   "outputs": [
    {
     "name": "stdout",
     "output_type": "stream",
     "text": [
      "torch.Size([1, 29, 2048, 2048])\n"
     ]
    }
   ],
   "source": [
    "img = img.to('cuda')\n",
    "model = model.to('cuda')\n",
    "\n",
    "logit = model(img)\n",
    "output = F.interpolate(logit,size=(2048,2048),mode=\"bilinear\")\n",
    "sig_output = torch.sigmoid(output).cpu()\n",
    "print(sig_output.shape)"
   ]
  },
  {
   "attachments": {},
   "cell_type": "markdown",
   "metadata": {},
   "source": [
    "### sample data에 대한 클래스별 확률 분포 추출"
   ]
  },
  {
   "cell_type": "code",
   "execution_count": 6,
   "metadata": {},
   "outputs": [
    {
     "data": {
      "image/png": "[encoded data removed]",
      "text/plain": [
       "<Figure size 640x480 with 2 Axes>"
      ]
     },
     "metadata": {},
     "output_type": "display_data"
    }
   ],
   "source": [
    "import matplotlib.pyplot as plt\n",
    "\n",
    "for i, (predict,mask) in enumerate(zip(sig_output[0],label[0])):\n",
    "    if i==26:\n",
    "        mix = predict*mask\n",
    "        distri = mix[(0.9>mix) & (mix>0)].cpu().data.numpy()\n",
    "        zero_mask = mask==0\n",
    "        other = predict*zero_mask\n",
    "        other = other[other>0.1].cpu().data.numpy()\n",
    "        \n",
    "        plt.subplot(1,2,1)\n",
    "        plt.title('mask distribution')\n",
    "        plt.hist(distri, bins=100)\n",
    "        plt.ylim(0,50)\n",
    "        \n",
    "        plt.subplot(1,2,2)\n",
    "        plt.title('non mask distribution')\n",
    "        plt.hist(other, bins=100)\n"
   ]
  },
  {
   "cell_type": "code",
   "execution_count": 7,
   "metadata": {},
   "outputs": [
    {
     "name": "stderr",
     "output_type": "stream",
     "text": [
      "100%|██████████| 27/27 [04:23<00:00,  9.77s/it]\n"
     ]
    }
   ],
   "source": [
    "val_loader = DataLoader(\n",
    "        dataset=val_dataset, \n",
    "        batch_size=BATCH_SIZE,\n",
    "        shuffle=False,\n",
    "        drop_last=False\n",
    "    )\n",
    "mask_hist = np.zeros((29, 100))\n",
    "other_hist = np.zeros((29, 100))\n",
    "\n",
    "with torch.no_grad():\n",
    "    model = model.cuda()\n",
    "    n_class = len(XRayDataset.CLASSES)\n",
    "    cnt = 0\n",
    "    dices = []\n",
    "    with tqdm(total=len(val_loader)) as pbar:\n",
    "        for images, masks in val_loader:\n",
    "            images = images.cuda()        \n",
    "            \n",
    "            outputs = model(images)\n",
    "            \n",
    "            output_h, output_w = outputs.size(-2), outputs.size(-1)\n",
    "            mask_h, mask_w = masks.size(-2), masks.size(-1)\n",
    "            \n",
    "            # restore original size\n",
    "            if output_h != mask_h or output_w != mask_w:\n",
    "                outputs = F.interpolate(outputs, size=(mask_h, mask_w), mode=\"bilinear\")\n",
    "            \n",
    "            sig_output = torch.sigmoid(outputs)\n",
    "            for i in range(29):\n",
    "                if i==26 or i == 20:\n",
    "                    sig_output[:,i] = (sig_output[:,i]> 0.9)\n",
    "                else:\n",
    "                    sig_output[:,i] = (sig_output[:,i]> 0.3)\n",
    "            sig_output = sig_output.detach().cpu()\n",
    "            \n",
    "            dice = dice_coef(sig_output, masks)\n",
    "            dices.append(dice)\n",
    "            for b in range(sig_output.size(0)):\n",
    "                for i, (predict,mask) in enumerate(zip(sig_output[b],masks[b])):\n",
    "                    mix = predict*mask\n",
    "                    distri = mix[(mix>0)].data.numpy()\n",
    "                    \n",
    "                    zero_mask = mask==0\n",
    "                    other = predict*zero_mask\n",
    "                    other = other[other > 0].data.numpy()\n",
    "            \n",
    "                    out_mask, _ = np.histogram(distri,bins=100, range=(0,1))\n",
    "                    out_other,_ = np.histogram(other,bins=100, range=(0,1))\n",
    "                    \n",
    "                    mask_hist[i] += out_mask\n",
    "                    other_hist[i] += out_other\n",
    "                    \n",
    "            pbar.update(1)\n",
    "    dices = torch.cat(dices, dim=0)\n",
    "    dices_per_class = torch.mean(dices, dim=0)\n",
    "    dice_str = [\n",
    "        f\"{c:<12}: {d.item():.4f}\"\n",
    "        for c, d in zip(XRayDataset.CLASSES, dices_per_class)\n",
    "    ]\n",
    "    dice_str = \"\\n\".join(dice_str)\n",
    "    avg_dice = torch.mean(dices_per_class).item()\n"
   ]
  },
  {
   "cell_type": "code",
   "execution_count": 8,
   "metadata": {},
   "outputs": [
    {
     "name": "stdout",
     "output_type": "stream",
     "text": [
      "finger-1    : 0.9630\n",
      "finger-2    : 0.9823\n",
      "finger-3    : 0.9799\n",
      "finger-4    : 0.9742\n",
      "finger-5    : 0.9767\n",
      "finger-6    : 0.9861\n",
      "finger-7    : 0.9847\n",
      "finger-8    : 0.9766\n",
      "finger-9    : 0.9800\n",
      "finger-10   : 0.9873\n",
      "finger-11   : 0.9792\n",
      "finger-12   : 0.9755\n",
      "finger-13   : 0.9783\n",
      "finger-14   : 0.9858\n",
      "finger-15   : 0.9804\n",
      "finger-16   : 0.9706\n",
      "finger-17   : 0.9710\n",
      "finger-18   : 0.9836\n",
      "finger-19   : 0.9842\n",
      "Trapezium   : 0.9493\n",
      "Trapezoid   : 0.9217\n",
      "Capitate    : 0.9635\n",
      "Hamate      : 0.9517\n",
      "Scaphoid    : 0.9651\n",
      "Lunate      : 0.9568\n",
      "Triquetrum  : 0.9561\n",
      "Pisiform    : 0.9292\n",
      "Radius      : 0.9834\n",
      "Ulna        : 0.9822\n",
      "0.9709770679473877\n"
     ]
    }
   ],
   "source": [
    "print(dice_str)\n",
    "print(avg_dice)"
   ]
  },
  {
   "cell_type": "code",
   "execution_count": 9,
   "metadata": {},
   "outputs": [
    {
     "name": "stdout",
     "output_type": "stream",
     "text": [
      "(29, 100)\n",
      "(29, 100)\n",
      "[0. 0. 0. 0. 0. 0. 0. 0. 0. 0. 0. 0. 0. 0. 0. 0. 0. 0. 0. 0. 0. 0. 0. 0.\n",
      " 0. 0. 0. 0. 0. 0. 0. 0. 0. 0. 0. 0. 0. 0. 0. 0. 0. 0. 0. 0. 0. 0. 0. 0.\n",
      " 0. 0. 0. 0. 0. 0. 0. 0. 0. 0. 0. 0. 0. 0. 0. 0. 0. 0. 0. 0. 0. 0. 0. 0.\n",
      " 0. 0. 0. 0. 0. 0. 0. 0. 0. 0. 0. 0. 0. 0. 0. 0. 0. 0. 0. 0. 0. 0. 0. 0.\n",
      " 0. 0. 0. 0.]\n"
     ]
    },
    {
     "data": {
      "image/png": "[encoded data removed]",
      "text/plain": [
       "<Figure size 1000x400 with 3 Axes>"
      ]
     },
     "metadata": {},
     "output_type": "display_data"
    }
   ],
   "source": [
    "print(mask_hist.shape)\n",
    "print(other_hist.shape)\n",
    "bins = np.linspace(0,1,100)\n",
    "\n",
    "def reverse_cumulative(hist):\n",
    "    return np.cumsum(hist[::-1])[::-1]\n",
    "\n",
    "def normalize(array):\n",
    "    min_val = array.min()\n",
    "    max_val = array.max()\n",
    "    nor = (array-min_val) / (max_val - min_val)\n",
    "    nor = nor*2 -1\n",
    "    return nor\n",
    "\n",
    "for i in range(29):\n",
    "    plt.figure(figsize=(10,4))\n",
    "    plt.suptitle(f\"label {i}\")\n",
    "    # mask에 해당하는 이미지의 확률분포\n",
    "    plt.subplot(1,3,1)\n",
    "    plt.title('mask distribution')\n",
    "    plt.bar(bins,mask_hist[i], width = 1/100)\n",
    "    plt.ylim(0,10000)\n",
    "    \n",
    "    # mask가 아닌 이미지의 확률분포\n",
    "    plt.subplot(1,3,2)\n",
    "    plt.title('non mask distribution')\n",
    "    plt.bar(bins, other_hist[i], width = 1/100)\n",
    "    plt.ylim(0,10000)\n",
    "    \n",
    "    # 두개의 누적합의 차이\n",
    "    cumulative_hist = mask_hist[i]-other_hist[i]\n",
    "    cumulative_hist = reverse_cumulative(cumulative_hist)\n",
    "    # cumulative_hist = reverse_cumulative(mask_hist[i])-reverse_cumulative(other_hist[i])\n",
    "    # cumulative_hist = normalize(cumulative_hist)\n",
    "    plt.subplot(1,3,3)\n",
    "    plt.title('cumsum diff')\n",
    "    plt.bar(bins, cumulative_hist, width = 1/100)\n",
    "    plt.title(f\"max threshold {np.argmax(cumulative_hist)*0.01}\")\n",
    "    \n",
    "    plt.show()"
   ]
  },
  {
   "cell_type": "code",
   "execution_count": null,
   "metadata": {},
   "outputs": [],
   "source": []
  }
 ],
 "metadata": {
  "kernelspec": {
   "display_name": "base",
   "language": "python",
   "name": "python3"
  },
  "language_info": {
   "codemirror_mode": {
    "name": "ipython",
    "version": 3
   },
   "file_extension": ".py",
   "mimetype": "text/x-python",
   "name": "python",
   "nbconvert_exporter": "python",
   "pygments_lexer": "ipython3",
   "version": "3.8.5"
  },
  "orig_nbformat": 4
 },
 "nbformat": 4,
 "nbformat_minor": 2
}
